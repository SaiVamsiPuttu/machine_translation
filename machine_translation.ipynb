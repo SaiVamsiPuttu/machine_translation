{
  "nbformat": 4,
  "nbformat_minor": 0,
  "metadata": {
    "colab": {
      "name": "machine_translation.ipynb",
      "provenance": [],
      "collapsed_sections": [],
      "toc_visible": true,
      "machine_shape": "hm",
      "include_colab_link": true
    },
    "kernelspec": {
      "display_name": "Python 3",
      "name": "python3"
    },
    "language_info": {
      "name": "python"
    },
    "accelerator": "TPU"
  },
  "cells": [
    {
      "cell_type": "markdown",
      "metadata": {
        "id": "view-in-github",
        "colab_type": "text"
      },
      "source": [
        "<a href=\"https://colab.research.google.com/github/SaiVamsiPuttu/machine_translation/blob/main/machine_translation.ipynb\" target=\"_parent\"><img src=\"https://colab.research.google.com/assets/colab-badge.svg\" alt=\"Open In Colab\"/></a>"
      ]
    },
    {
      "cell_type": "markdown",
      "metadata": {
        "id": "BUb_7Wfpbd8A"
      },
      "source": [
        "# Installing 'Transformer Architecture' and 'Indic Library'"
      ]
    },
    {
      "cell_type": "code",
      "metadata": {
        "colab": {
          "base_uri": "https://localhost:8080/"
        },
        "id": "k7N7Fuiv4jXo",
        "outputId": "d9252d70-06d2-4eda-e1ee-1d709568c70c"
      },
      "source": [
        "!pip install transformers"
      ],
      "execution_count": null,
      "outputs": [
        {
          "output_type": "stream",
          "text": [
            "Collecting transformers\n",
            "\u001b[?25l  Downloading https://files.pythonhosted.org/packages/d5/43/cfe4ee779bbd6a678ac6a97c5a5cdeb03c35f9eaebbb9720b036680f9a2d/transformers-4.6.1-py3-none-any.whl (2.2MB)\n",
            "\u001b[K     |████████████████████████████████| 2.3MB 2.3MB/s \n",
            "\u001b[?25hCollecting tokenizers<0.11,>=0.10.1\n",
            "\u001b[?25l  Downloading https://files.pythonhosted.org/packages/d4/e2/df3543e8ffdab68f5acc73f613de9c2b155ac47f162e725dcac87c521c11/tokenizers-0.10.3-cp37-cp37m-manylinux_2_5_x86_64.manylinux1_x86_64.manylinux_2_12_x86_64.manylinux2010_x86_64.whl (3.3MB)\n",
            "\u001b[K     |████████████████████████████████| 3.3MB 22.8MB/s \n",
            "\u001b[?25hRequirement already satisfied: packaging in /usr/local/lib/python3.7/dist-packages (from transformers) (20.9)\n",
            "Requirement already satisfied: regex!=2019.12.17 in /usr/local/lib/python3.7/dist-packages (from transformers) (2019.12.20)\n",
            "Requirement already satisfied: filelock in /usr/local/lib/python3.7/dist-packages (from transformers) (3.0.12)\n",
            "Requirement already satisfied: numpy>=1.17 in /usr/local/lib/python3.7/dist-packages (from transformers) (1.19.5)\n",
            "Requirement already satisfied: requests in /usr/local/lib/python3.7/dist-packages (from transformers) (2.23.0)\n",
            "Collecting sacremoses\n",
            "\u001b[?25l  Downloading https://files.pythonhosted.org/packages/75/ee/67241dc87f266093c533a2d4d3d69438e57d7a90abb216fa076e7d475d4a/sacremoses-0.0.45-py3-none-any.whl (895kB)\n",
            "\u001b[K     |████████████████████████████████| 901kB 40.5MB/s \n",
            "\u001b[?25hRequirement already satisfied: tqdm>=4.27 in /usr/local/lib/python3.7/dist-packages (from transformers) (4.41.1)\n",
            "Requirement already satisfied: importlib-metadata; python_version < \"3.8\" in /usr/local/lib/python3.7/dist-packages (from transformers) (4.0.1)\n",
            "Collecting huggingface-hub==0.0.8\n",
            "  Downloading https://files.pythonhosted.org/packages/a1/88/7b1e45720ecf59c6c6737ff332f41c955963090a18e72acbcbeac6b25e86/huggingface_hub-0.0.8-py3-none-any.whl\n",
            "Requirement already satisfied: pyparsing>=2.0.2 in /usr/local/lib/python3.7/dist-packages (from packaging->transformers) (2.4.7)\n",
            "Requirement already satisfied: idna<3,>=2.5 in /usr/local/lib/python3.7/dist-packages (from requests->transformers) (2.10)\n",
            "Requirement already satisfied: urllib3!=1.25.0,!=1.25.1,<1.26,>=1.21.1 in /usr/local/lib/python3.7/dist-packages (from requests->transformers) (1.24.3)\n",
            "Requirement already satisfied: chardet<4,>=3.0.2 in /usr/local/lib/python3.7/dist-packages (from requests->transformers) (3.0.4)\n",
            "Requirement already satisfied: certifi>=2017.4.17 in /usr/local/lib/python3.7/dist-packages (from requests->transformers) (2020.12.5)\n",
            "Requirement already satisfied: click in /usr/local/lib/python3.7/dist-packages (from sacremoses->transformers) (7.1.2)\n",
            "Requirement already satisfied: six in /usr/local/lib/python3.7/dist-packages (from sacremoses->transformers) (1.15.0)\n",
            "Requirement already satisfied: joblib in /usr/local/lib/python3.7/dist-packages (from sacremoses->transformers) (1.0.1)\n",
            "Requirement already satisfied: zipp>=0.5 in /usr/local/lib/python3.7/dist-packages (from importlib-metadata; python_version < \"3.8\"->transformers) (3.4.1)\n",
            "Requirement already satisfied: typing-extensions>=3.6.4; python_version < \"3.8\" in /usr/local/lib/python3.7/dist-packages (from importlib-metadata; python_version < \"3.8\"->transformers) (3.7.4.3)\n",
            "Installing collected packages: tokenizers, sacremoses, huggingface-hub, transformers\n",
            "Successfully installed huggingface-hub-0.0.8 sacremoses-0.0.45 tokenizers-0.10.3 transformers-4.6.1\n"
          ],
          "name": "stdout"
        }
      ]
    },
    {
      "cell_type": "code",
      "metadata": {
        "colab": {
          "base_uri": "https://localhost:8080/"
        },
        "id": "xu36anLu6OHY",
        "outputId": "f365731e-65d3-41d4-ce7f-bee639739fb3"
      },
      "source": [
        "!pip install indic-nlp-library"
      ],
      "execution_count": null,
      "outputs": [
        {
          "output_type": "stream",
          "text": [
            "Collecting indic-nlp-library\n",
            "\u001b[?25l  Downloading https://files.pythonhosted.org/packages/84/d4/495bb43b88a2a6d04b09c29fc5115f24872af74cd8317fe84026abd4ddb1/indic_nlp_library-0.81-py3-none-any.whl (40kB)\n",
            "\u001b[K     |████████████████████████████████| 40kB 2.2MB/s \n",
            "\u001b[?25hCollecting morfessor\n",
            "  Downloading https://files.pythonhosted.org/packages/39/e6/7afea30be2ee4d29ce9de0fa53acbb033163615f849515c0b1956ad074ee/Morfessor-2.0.6-py3-none-any.whl\n",
            "Requirement already satisfied: pandas in /usr/local/lib/python3.7/dist-packages (from indic-nlp-library) (1.1.5)\n",
            "Collecting sphinx-rtd-theme\n",
            "\u001b[?25l  Downloading https://files.pythonhosted.org/packages/ac/24/2475e8f83519b54b2148d4a56eb1111f9cec630d088c3ffc214492c12107/sphinx_rtd_theme-0.5.2-py2.py3-none-any.whl (9.1MB)\n",
            "\u001b[K     |████████████████████████████████| 9.2MB 4.3MB/s \n",
            "\u001b[?25hCollecting sphinx-argparse\n",
            "  Downloading https://files.pythonhosted.org/packages/06/2b/dfad6a1831c3aeeae25d8d3d417224684befbf45e10c7f2141631616a6ed/sphinx-argparse-0.2.5.tar.gz\n",
            "Requirement already satisfied: numpy in /usr/local/lib/python3.7/dist-packages (from indic-nlp-library) (1.19.5)\n",
            "Requirement already satisfied: python-dateutil>=2.7.3 in /usr/local/lib/python3.7/dist-packages (from pandas->indic-nlp-library) (2.8.1)\n",
            "Requirement already satisfied: pytz>=2017.2 in /usr/local/lib/python3.7/dist-packages (from pandas->indic-nlp-library) (2018.9)\n",
            "Requirement already satisfied: sphinx in /usr/local/lib/python3.7/dist-packages (from sphinx-rtd-theme->indic-nlp-library) (1.8.5)\n",
            "Collecting docutils<0.17\n",
            "\u001b[?25l  Downloading https://files.pythonhosted.org/packages/81/44/8a15e45ffa96e6cf82956dd8d7af9e666357e16b0d93b253903475ee947f/docutils-0.16-py2.py3-none-any.whl (548kB)\n",
            "\u001b[K     |████████████████████████████████| 552kB 48.8MB/s \n",
            "\u001b[?25hRequirement already satisfied: six>=1.5 in /usr/local/lib/python3.7/dist-packages (from python-dateutil>=2.7.3->pandas->indic-nlp-library) (1.15.0)\n",
            "Requirement already satisfied: snowballstemmer>=1.1 in /usr/local/lib/python3.7/dist-packages (from sphinx->sphinx-rtd-theme->indic-nlp-library) (2.1.0)\n",
            "Requirement already satisfied: requests>=2.0.0 in /usr/local/lib/python3.7/dist-packages (from sphinx->sphinx-rtd-theme->indic-nlp-library) (2.23.0)\n",
            "Requirement already satisfied: Pygments>=2.0 in /usr/local/lib/python3.7/dist-packages (from sphinx->sphinx-rtd-theme->indic-nlp-library) (2.6.1)\n",
            "Requirement already satisfied: babel!=2.0,>=1.3 in /usr/local/lib/python3.7/dist-packages (from sphinx->sphinx-rtd-theme->indic-nlp-library) (2.9.1)\n",
            "Requirement already satisfied: setuptools in /usr/local/lib/python3.7/dist-packages (from sphinx->sphinx-rtd-theme->indic-nlp-library) (57.0.0)\n",
            "Requirement already satisfied: imagesize in /usr/local/lib/python3.7/dist-packages (from sphinx->sphinx-rtd-theme->indic-nlp-library) (1.2.0)\n",
            "Requirement already satisfied: Jinja2>=2.3 in /usr/local/lib/python3.7/dist-packages (from sphinx->sphinx-rtd-theme->indic-nlp-library) (2.11.3)\n",
            "Requirement already satisfied: sphinxcontrib-websupport in /usr/local/lib/python3.7/dist-packages (from sphinx->sphinx-rtd-theme->indic-nlp-library) (1.2.4)\n",
            "Requirement already satisfied: alabaster<0.8,>=0.7 in /usr/local/lib/python3.7/dist-packages (from sphinx->sphinx-rtd-theme->indic-nlp-library) (0.7.12)\n",
            "Requirement already satisfied: packaging in /usr/local/lib/python3.7/dist-packages (from sphinx->sphinx-rtd-theme->indic-nlp-library) (20.9)\n",
            "Requirement already satisfied: certifi>=2017.4.17 in /usr/local/lib/python3.7/dist-packages (from requests>=2.0.0->sphinx->sphinx-rtd-theme->indic-nlp-library) (2020.12.5)\n",
            "Requirement already satisfied: idna<3,>=2.5 in /usr/local/lib/python3.7/dist-packages (from requests>=2.0.0->sphinx->sphinx-rtd-theme->indic-nlp-library) (2.10)\n",
            "Requirement already satisfied: urllib3!=1.25.0,!=1.25.1,<1.26,>=1.21.1 in /usr/local/lib/python3.7/dist-packages (from requests>=2.0.0->sphinx->sphinx-rtd-theme->indic-nlp-library) (1.24.3)\n",
            "Requirement already satisfied: chardet<4,>=3.0.2 in /usr/local/lib/python3.7/dist-packages (from requests>=2.0.0->sphinx->sphinx-rtd-theme->indic-nlp-library) (3.0.4)\n",
            "Requirement already satisfied: MarkupSafe>=0.23 in /usr/local/lib/python3.7/dist-packages (from Jinja2>=2.3->sphinx->sphinx-rtd-theme->indic-nlp-library) (2.0.1)\n",
            "Requirement already satisfied: sphinxcontrib-serializinghtml in /usr/local/lib/python3.7/dist-packages (from sphinxcontrib-websupport->sphinx->sphinx-rtd-theme->indic-nlp-library) (1.1.4)\n",
            "Requirement already satisfied: pyparsing>=2.0.2 in /usr/local/lib/python3.7/dist-packages (from packaging->sphinx->sphinx-rtd-theme->indic-nlp-library) (2.4.7)\n",
            "Building wheels for collected packages: sphinx-argparse\n",
            "  Building wheel for sphinx-argparse (setup.py) ... \u001b[?25l\u001b[?25hdone\n",
            "  Created wheel for sphinx-argparse: filename=sphinx_argparse-0.2.5-cp37-none-any.whl size=11552 sha256=b053b8fde2c5494197ba9ddf13997b897c78792143b4d5f98ad02582e8429678\n",
            "  Stored in directory: /root/.cache/pip/wheels/2a/18/1b/4990a1859da4edc77ab312bc2986c08d2733fb5713d06e44f5\n",
            "Successfully built sphinx-argparse\n",
            "\u001b[31mERROR: datascience 0.10.6 has requirement folium==0.2.1, but you'll have folium 0.8.3 which is incompatible.\u001b[0m\n",
            "Installing collected packages: morfessor, docutils, sphinx-rtd-theme, sphinx-argparse, indic-nlp-library\n",
            "  Found existing installation: docutils 0.17.1\n",
            "    Uninstalling docutils-0.17.1:\n",
            "      Successfully uninstalled docutils-0.17.1\n",
            "Successfully installed docutils-0.16 indic-nlp-library-0.81 morfessor-2.0.6 sphinx-argparse-0.2.5 sphinx-rtd-theme-0.5.2\n"
          ],
          "name": "stdout"
        }
      ]
    },
    {
      "cell_type": "markdown",
      "metadata": {
        "id": "v_LhcHzzbocP"
      },
      "source": [
        "# Importing required libraries"
      ]
    },
    {
      "cell_type": "code",
      "metadata": {
        "id": "CA0vo5Z-3ULz"
      },
      "source": [
        "from transformers import pipeline\n",
        "from transformers import AutoTokenizer\n",
        "import string\n",
        "import re\n",
        "from pickle import dump\n",
        "from unicodedata import normalize\n",
        "from numpy import array\n",
        "from indicnlp.normalize.indic_normalize import DevanagariNormalizer\n",
        "from indicnlp.tokenize import indic_tokenize  \n",
        "from numpy import argmax\n",
        "from nltk.translate.bleu_score import corpus_bleu\n",
        "from pickle import load\n",
        "from numpy.random import rand\n",
        "from numpy.random import shuffle\n",
        "from tensorflow.keras.preprocessing.text import Tokenizer\n",
        "from tensorflow.keras.preprocessing.sequence import pad_sequences\n",
        "from tensorflow.keras.utils import to_categorical\n",
        "from tensorflow.keras.utils import plot_model\n",
        "from tensorflow.keras.models import Sequential\n",
        "from tensorflow.keras.layers import LSTM\n",
        "from tensorflow.keras.layers import Dense\n",
        "from tensorflow.keras.layers import Embedding\n",
        "from tensorflow.keras.layers import RepeatVector\n",
        "from tensorflow.keras.layers import TimeDistributed\n",
        "from tensorflow.keras.callbacks import ModelCheckpoint\n",
        "import pandas as pd\n",
        "import numpy as np\n",
        "import string\n",
        "from string import digits\n",
        "import matplotlib.pyplot as plt\n",
        "%matplotlib inline\n",
        "from sklearn.utils import shuffle\n",
        "from sklearn.model_selection import train_test_split\n",
        "#from tensorflow.keras.layers import Input, LSTM, Embedding, Dense, CuDNNLSTM, CuDNNGRU, TimeDistributed, Flatten, Dropout, Bidirectional, RepeatVector\n",
        "from tensorflow.keras.models import Model, Sequential, load_model\n",
        "from tensorflow.keras.callbacks import ModelCheckpoint\n",
        "from numpy import array, argmax\n",
        "from numpy.random import rand, shuffle\n",
        "from nltk.translate.bleu_score import corpus_bleu, sentence_bleu\n",
        "from tensorflow.keras.applications import Xception\n",
        "#import keras.utils.multi_gpu_model\n",
        "from tensorflow.keras.utils import to_categorical\n",
        "import scipy\n",
        "import statsmodels\n",
        "import sklearn\n",
        "import tensorflow as tf\n",
        "tf.compat.v1.enable_eager_execution()\n",
        "from io import open\n",
        "import unicodedata\n",
        "import random\n",
        "import math\n",
        "import os\n",
        "import time\n",
        "import re\n",
        "import sys\n",
        "from unicodedata import normalize\n",
        "from numpy import array\n",
        "from pickle import dump, load\n",
        "from tensorflow.keras.layers import RepeatVector, TimeDistributed\n",
        "from tensorflow.keras.callbacks import ModelCheckpoint\n",
        "\n",
        "INDIC_NLP_LIB_HOME=r\"anoopkunchukuttan-indic_nlp_library-eccde81/src\"\n",
        "INDIC_NLP_RESOURCES=r\"indic_nlp_resources-master\"\n",
        "sys.path.append(r'{}'.format(INDIC_NLP_LIB_HOME))\n",
        "from indicnlp import common\n",
        "common.set_resources_path(INDIC_NLP_RESOURCES)\n",
        "from indicnlp import loader\n",
        "from indicnlp.normalize.indic_normalize import IndicNormalizerFactory\n",
        "from indicnlp.tokenize import indic_tokenize"
      ],
      "execution_count": null,
      "outputs": []
    },
    {
      "cell_type": "code",
      "metadata": {
        "colab": {
          "base_uri": "https://localhost:8080/"
        },
        "id": "jdcQCAjiqTXM",
        "outputId": "d18a5780-58bf-447a-c041-0645d889b4cb"
      },
      "source": [
        "tf.executing_eagerly()"
      ],
      "execution_count": null,
      "outputs": [
        {
          "output_type": "execute_result",
          "data": {
            "text/plain": [
              "True"
            ]
          },
          "metadata": {
            "tags": []
          },
          "execution_count": 5
        }
      ]
    },
    {
      "cell_type": "markdown",
      "metadata": {
        "id": "d-4rpvDP645K"
      },
      "source": [
        "# Data Acquisition"
      ]
    },
    {
      "cell_type": "code",
      "metadata": {
        "id": "GLyyU_mz68fV"
      },
      "source": [
        "# Acquire Dataset\n",
        "malayalam = pd.read_fwf('/content/drive/MyDrive/NLP/Project/train.ml',columns='malayalam_text')\n",
        "telugu = pd.read_fwf('/content/drive/MyDrive/NLP/Project/train.te',columns=['telugu_text','extension1','extension2','extension3','extension4'])"
      ],
      "execution_count": null,
      "outputs": []
    },
    {
      "cell_type": "code",
      "metadata": {
        "id": "Bkv0mIrI4Uvg"
      },
      "source": [
        "telugu.columns = ['telugu_text','extension1','extension2','extension3','extension4']"
      ],
      "execution_count": null,
      "outputs": []
    },
    {
      "cell_type": "code",
      "metadata": {
        "id": "Etbl-hZD41l4"
      },
      "source": [
        "malayalam.columns = ['malayalam_text']"
      ],
      "execution_count": null,
      "outputs": []
    },
    {
      "cell_type": "code",
      "metadata": {
        "id": "5eVCJek-J_T6"
      },
      "source": [
        "df_malayalam = malayalam['malayalam_text']"
      ],
      "execution_count": null,
      "outputs": []
    },
    {
      "cell_type": "code",
      "metadata": {
        "id": "oAXENB7kXdaM"
      },
      "source": [
        "df_telugu = telugu['telugu_text']"
      ],
      "execution_count": null,
      "outputs": []
    },
    {
      "cell_type": "code",
      "metadata": {
        "id": "3IMtK921Efd3"
      },
      "source": [
        "#df['sentence_length'] = df['Event'].str.split(\"/\").str.len()\n",
        "malayalam['sentence_length'] = malayalam['malayalam_text'].str.len()"
      ],
      "execution_count": null,
      "outputs": []
    },
    {
      "cell_type": "code",
      "metadata": {
        "id": "pbHHN2m4FexA"
      },
      "source": [
        "df = malayalam['sentence_length'].value_counts().rename_axis('length of sentence').reset_index(name='no of sentences')"
      ],
      "execution_count": null,
      "outputs": []
    },
    {
      "cell_type": "code",
      "metadata": {
        "colab": {
          "base_uri": "https://localhost:8080/",
          "height": 417
        },
        "id": "mal-YVe6FJkA",
        "outputId": "7164afa2-cab0-41dd-eaef-41d34b36e803"
      },
      "source": [
        "import matplotlib.pyplot as plt\n",
        "fig = plt.figure()\n",
        "ax = fig.add_axes([0,0,1,1])\n",
        "sentLength = df['length of sentence']\n",
        "noOfSent = df['no of sentences']\n",
        "ax.bar(sentLength,noOfSent)\n",
        "plt.title('Sentence length - no of such sentences in MALAYALAM dataset')\n",
        "plt.xlabel('Length of sentence')\n",
        "plt.ylabel('no of sentences')\n",
        "plt.savefig('/content/drive/MyDrive/NLP/Project/Dataset/mal_Sent_distr.png')\n",
        "plt.show()\n",
        "print(\"Max malayalam sentence length: \",df['length of sentence'].max())\n",
        "print(\"Min malayalam sentence length: \",df['length of sentence'].min())\n",
        "print(\"Mean malayalam sentence length: \",df['length of sentence'].mean())"
      ],
      "execution_count": null,
      "outputs": [
        {
          "output_type": "display_data",
          "data": {
            "image/png": "[encoded data removed]",
            "text/plain": [
              "<Figure size 432x288 with 1 Axes>"
            ]
          },
          "metadata": {
            "tags": [],
            "needs_background": "light"
          }
        },
        {
          "output_type": "stream",
          "text": [
            "Max malayalam sentence length:  139\n",
            "Min malayalam sentence length:  5\n",
            "Mean malayalam sentence length:  72.0\n"
          ],
          "name": "stdout"
        }
      ]
    },
    {
      "cell_type": "code",
      "metadata": {
        "colab": {
          "base_uri": "https://localhost:8080/",
          "height": 417
        },
        "id": "I-cYgE_hHwta",
        "outputId": "fae16635-581d-4318-b24a-48c6dbc67c91"
      },
      "source": [
        "telugu['sentence_length'] = telugu['telugu_text'].str.len()\n",
        "df2 = telugu['sentence_length'].value_counts().rename_axis('length of sentence').reset_index(name='no of sentences')\n",
        "\n",
        "fig = plt.figure()\n",
        "ax = fig.add_axes([0,0,1,1])\n",
        "sentLength = df2['length of sentence']\n",
        "noOfSent = df2['no of sentences']\n",
        "ax.bar(sentLength,noOfSent)\n",
        "plt.title('Sentence length - no of such sentences in TELUGU dataset')\n",
        "plt.xlabel('Length of sentence')\n",
        "plt.ylabel('no of sentences')\n",
        "plt.savefig('/content/drive/MyDrive/NLP/Project/Dataset/tel_sent_distr.png')\n",
        "plt.show()\n",
        "\n",
        "print(\"Max telugu sentence length: \",df2['length of sentence'].max())\n",
        "print(\"Min telugu sentence length: \",df2['length of sentence'].min())\n",
        "print(\"Mean telugu sentence length: \",df2['length of sentence'].mean())"
      ],
      "execution_count": null,
      "outputs": [
        {
          "output_type": "display_data",
          "data": {
            "image/png": "[encoded data removed]",
            "text/plain": [
              "<Figure size 432x288 with 1 Axes>"
            ]
          },
          "metadata": {
            "tags": [],
            "needs_background": "light"
          }
        },
        {
          "output_type": "stream",
          "text": [
            "Max telugu sentence length:  125\n",
            "Min telugu sentence length:  5\n",
            "Mean telugu sentence length:  65.0\n"
          ],
          "name": "stdout"
        }
      ]
    },
    {
      "cell_type": "markdown",
      "metadata": {
        "id": "FkYJsjHebxss"
      },
      "source": [
        "# Data Pre-Processing"
      ]
    },
    {
      "cell_type": "markdown",
      "metadata": {
        "id": "7Rpm1T36SKLv"
      },
      "source": [
        "## Clean Pairs"
      ]
    },
    {
      "cell_type": "code",
      "metadata": {
        "id": "rlctbW7IBE4Q"
      },
      "source": [
        "def save_clean_data(sentences, filename):\n",
        "    dump(sentences, open(filename, 'wb'))\n",
        "    print('Saved: %s' % filename)\n",
        "\n",
        "def load_clean_sentences(filename):\n",
        "    return load(open(filename, 'rb'))"
      ],
      "execution_count": null,
      "outputs": []
    },
    {
      "cell_type": "markdown",
      "metadata": {
        "id": "EV-3y5cqb8l7"
      },
      "source": [
        "# Converted Pre-Processed dataset to 'pickel file'"
      ]
    },
    {
      "cell_type": "code",
      "metadata": {
        "colab": {
          "base_uri": "https://localhost:8080/",
          "height": 52
        },
        "id": "F4Sdnz2Ww1Q1",
        "outputId": "834fe068-a92f-44c5-ec82-fb43c25781c9"
      },
      "source": [
        "def load_doc(filename):\n",
        "    #file = open(filename, mode='rt', encoding='utf-8')\n",
        "    file = open(filename, mode='rt',encoding='utf-8')\n",
        "    text = file.read()\n",
        "    file.close()\n",
        "    return text\n",
        "\n",
        "def to_pairs(mal_text, tel_text):\n",
        "    #malayalam_lines = mal_text[:].strip().split('\\n')\n",
        "    #telugu_lines = telugu_lines[:].strip().split('\\n')\n",
        "    pairs = []\n",
        "    for i in range(len(tel_text)):\n",
        "        pairs.append([])\n",
        "        pairs[i].append(pre_process_malayalam_sentence(mal_text[i]))\n",
        "        pairs[i].append(pre_process_telugu_sentence(tel_text[i]))\n",
        "    return pairs\n",
        "\n",
        "def clean_text(text):\n",
        "    text = text.replace(u',','')\n",
        "    text = text.replace(u'\"','')\n",
        "    text = text.replace(u'\"','')\n",
        "    text = text.replace(u\"‘‘\",'')\n",
        "    text = text.replace(u\"’’\",'')\n",
        "    text = text.replace(u\"''\",'')\n",
        "    text = text.replace(u\"।\",'')\n",
        "    text=text.replace(u',','')\n",
        "    text=text.replace(u'\"','')\n",
        "    text=text.replace(u'(','')\n",
        "    text=text.replace(u')','')\n",
        "    text=text.replace(u'\"','')\n",
        "    text=text.replace(u':','')\n",
        "    text=text.replace(u\"'\",'')\n",
        "    text=text.replace(u\"‘‘\",'')\n",
        "    text=text.replace(u\"’’\",'')\n",
        "    text=text.replace(u\"''\",'')\n",
        "    text=text.replace(u\".\",'')\n",
        "    text=text.replace(u\"-\",'')\n",
        "    text=text.replace(u\"।\",'')\n",
        "    text=text.replace(u\"?\",'')\n",
        "    text=text.replace(u\"\\\\\",'')\n",
        "    text=text.replace(u\"_\",'')\n",
        "    text=text.replace(\"'\", \"\")\n",
        "    text=text.replace('\"', \"\")\n",
        "    text= re.sub(\"'\", '', text)\n",
        "    text=re.sub('[0-9+\\-*/.%]', '', text)\n",
        "    text=text.strip()\n",
        "    text=re.sub(' +', ' ',text)\n",
        "    exclude = set(string.punctuation)\n",
        "    text= ''.join(ch for ch in text if ch not in exclude)\n",
        "    return text\n",
        "\n",
        "def pre_process_malayalam_sentence(line):\n",
        "    line=re.sub('[a-zA-Z]', '', line)\n",
        "    line = clean_text(line)\n",
        "    remove_nuktas = False\n",
        "    factory = IndicNormalizerFactory()\n",
        "    normalizer = factory.get_normalizer(\"ml\")\n",
        "    line = normalizer.normalize(line)\n",
        "    tokens = list()\n",
        "    for t in indic_tokenize.trivial_tokenize(line):\n",
        "        tokens.append(t)\n",
        "    line = tokens\n",
        "    line = [word for word in line if not re.search(r'\\d', word)]\n",
        "    line = ' '.join(line)\n",
        "    line = '<start> '+ line + ' <end>'\n",
        "    return (line)\n",
        "\n",
        "def pre_process_telugu_sentence(line):\n",
        "    line=re.sub('[a-zA-Z]', '', line)\n",
        "    line = clean_text(line)\n",
        "    remove_nuktas = False\n",
        "    factory = IndicNormalizerFactory()\n",
        "    normalizer = factory.get_normalizer(\"te\")\n",
        "    line = normalizer.normalize(line)\n",
        "    tokens = list()\n",
        "    for t in indic_tokenize.trivial_tokenize(line):\n",
        "        tokens.append(t)\n",
        "    line = tokens\n",
        "    line = [word for word in line if not re.search(r'\\d', word)]\n",
        "    line = ' '.join(line)\n",
        "    line = '<start> '+ line + ' <end>'\n",
        "    return (line)\n",
        "\n",
        "#malayalam_text = load_doc('/content/drive/MyDrive/NLP/Project/Dataset/malayalam.pkl')\n",
        "#telugu_text = load_doc('/content/drive/MyDrive/NLP/Project/Dataset/telugu.pkl')\n",
        "\"\"\"-----------Commented out as dataset is already prepared and saved as 'pkl' file in drive-------------------------\"\"\"\n",
        "\"\"\"pairs = to_pairs(np.array(df_malayalam), np.array(df_telugu))\n",
        "clean_pairs = np.array(pairs)\n",
        "save_clean_data(clean_pairs, '/content/drive/MyDrive/NLP/Project/Dataset/clean_malayalam-telugu.pkl')\"\"\""
      ],
      "execution_count": null,
      "outputs": [
        {
          "output_type": "execute_result",
          "data": {
            "application/vnd.google.colaboratory.intrinsic+json": {
              "type": "string"
            },
            "text/plain": [
              "\"pairs = to_pairs(np.array(df_malayalam), np.array(df_telugu))\\nclean_pairs = np.array(pairs)\\nsave_clean_data(clean_pairs, '/content/drive/MyDrive/NLP/Project/Dataset/clean_malayalam-telugu.pkl')\""
            ]
          },
          "metadata": {
            "tags": []
          },
          "execution_count": 9
        }
      ]
    },
    {
      "cell_type": "code",
      "metadata": {
        "colab": {
          "base_uri": "https://localhost:8080/"
        },
        "id": "HO_q-uKKQj6D",
        "outputId": "7b20df45-93f4-41ce-d0cc-e54521b10913"
      },
      "source": [
        "line = 'ഷെയ്ൻ തന്റെ ഇൻസ്റ്റ ഗ്രാം പേജിലൂടെയാണ് ചിത്രം പങ്കുവച്ചിരിക്കുന്നത് '\n",
        "line2 = 'ఈ విషయన్ని స్వయంగా ఆమె తెలిపింది'\n",
        "pairs = to_pairs([line],[line2])\n",
        "\"\"\"line=re.sub('[a-zA-Z]', '', line)\n",
        "line = clean_text(line)\n",
        "factory = IndicNormalizerFactory()\n",
        "normalizer = factory.get_normalizer(\"ml\")\n",
        "line = normalizer.normalize(line)\n",
        "tokens = list()\n",
        "for t in indic_tokenize.trivial_tokenize(line):\n",
        "    tokens.append(t)\n",
        "line = tokens\"\"\"\n",
        "pairs"
      ],
      "execution_count": null,
      "outputs": [
        {
          "output_type": "execute_result",
          "data": {
            "text/plain": [
              "[['<start> ഷെയ്ൻ തന്റെ ഇൻസ്റ്റ ഗ്രാം പേജിലൂടെയാണ് ചിത്രം പങ്കുവച്ചിരിക്കുന്നത് <end>',\n",
              "  '<start> ఈ విషయన్ని స్వయంగా ఆమె తెలిపింది <end>']]"
            ]
          },
          "metadata": {
            "tags": []
          },
          "execution_count": 16
        }
      ]
    },
    {
      "cell_type": "markdown",
      "metadata": {
        "id": "1AevO4qocGJM"
      },
      "source": [
        "# Loading data from 'pickel' file and and taking 50k entries from the dataset and splitting 40k as train data and 10k as test data"
      ]
    },
    {
      "cell_type": "code",
      "metadata": {
        "id": "OGjDCnOgdWxG",
        "colab": {
          "base_uri": "https://localhost:8080/"
        },
        "outputId": "592f0efa-f31c-4f18-fe02-fe7c9513e04a"
      },
      "source": [
        "\"\"\"-----------Commented out as dataset is already prepared and saved as 'pkl' file in drive-------------------------\"\"\"\n",
        "\"\"\"# load dataset\n",
        "raw_dataset = load_clean_sentences('/content/drive/MyDrive/NLP/Project/Dataset/clean_malayalam-telugu.pkl')\n",
        "\n",
        "n_sentences = 50000\n",
        "n_train = 40000\n",
        "#n_train = (int)(n_sentences/2 + 0.2*(n_sentences/2))\n",
        "dataset = raw_dataset[:n_sentences, :]\n",
        "\n",
        "train, test = dataset[:n_train], dataset[n_train:]\n",
        "\n",
        "save_clean_data(dataset, '/content/drive/MyDrive/NLP/Project/Dataset/clean_malayalam-telugu-both.pkl')\n",
        "save_clean_data(train, '/content/drive/MyDrive/NLP/Project/Dataset/clean_malayalam-telugu-train.pkl')\n",
        "save_clean_data(test, '/content/drive/MyDrive/NLP/Project/Dataset/clean_malayalam-telugu-test.pkl')\"\"\""
      ],
      "execution_count": null,
      "outputs": [
        {
          "output_type": "stream",
          "text": [
            "Saved: /content/drive/MyDrive/NLP/Project/Dataset/clean_malayalam-telugu-both.pkl\n",
            "Saved: /content/drive/MyDrive/NLP/Project/Dataset/clean_malayalam-telugu-train.pkl\n",
            "Saved: /content/drive/MyDrive/NLP/Project/Dataset/clean_malayalam-telugu-test.pkl\n"
          ],
          "name": "stdout"
        }
      ]
    },
    {
      "cell_type": "markdown",
      "metadata": {
        "id": "pBNkwccFchHs"
      },
      "source": [
        "# Loading train & test data from pickel file"
      ]
    },
    {
      "cell_type": "code",
      "metadata": {
        "id": "snTgBQ00qwjY"
      },
      "source": [
        "# load datasets\n",
        "dataset = load_clean_sentences('/content/drive/MyDrive/NLP/Project/Dataset/clean_malayalam-telugu-both.pkl')\n",
        "train = load_clean_sentences('/content/drive/MyDrive/NLP/Project/Dataset/clean_malayalam-telugu-train.pkl')\n",
        "test = load_clean_sentences('/content/drive/MyDrive/NLP/Project/Dataset/clean_malayalam-telugu-test.pkl')\n",
        "\n",
        "shuffle(dataset)\n",
        "shuffle(train)\n",
        "shuffle(test)"
      ],
      "execution_count": null,
      "outputs": []
    },
    {
      "cell_type": "code",
      "metadata": {
        "colab": {
          "base_uri": "https://localhost:8080/"
        },
        "id": "iNBQro2CTfSZ",
        "outputId": "3d86215e-f9c5-441d-88a6-af287785054c"
      },
      "source": [
        "lang = 'അവർ അതെല്ലാം ആസ്വദിക്കുകയാണ്'\n",
        "vocab = set()\n",
        "for phrase in lang:\n",
        "  vocab.update(phrase.split(' '))\n",
        "\n",
        "vocab = sorted(vocab)\n",
        "for index, word in enumerate(vocab):\n",
        "  print(index,word)"
      ],
      "execution_count": null,
      "outputs": [
        {
          "output_type": "stream",
          "text": [
            "0 \n",
            "1 ം\n",
            "2 അ\n",
            "3 ആ\n",
            "4 ക\n",
            "5 ണ\n",
            "6 ത\n",
            "7 ദ\n",
            "8 യ\n",
            "9 ല\n",
            "10 വ\n",
            "11 സ\n",
            "12 ാ\n",
            "13 ി\n",
            "14 ു\n",
            "15 െ\n",
            "16 ്\n",
            "17 ർ\n"
          ],
          "name": "stdout"
        }
      ]
    },
    {
      "cell_type": "code",
      "metadata": {
        "id": "CSt90bvNT7mk"
      },
      "source": [
        "class LanguageIndex():\n",
        "  def __init__(self, lang):\n",
        "    self.lang = lang\n",
        "    self.word2idx = {}\n",
        "    self.idx2word = {}\n",
        "    self.vocab = set()\n",
        "    \n",
        "    self.create_index()\n",
        "    \n",
        "  def create_index(self):\n",
        "    for phrase in self.lang:\n",
        "      self.vocab.update(phrase.split(' '))\n",
        "    \n",
        "    self.vocab = sorted(self.vocab)\n",
        "    \n",
        "    self.word2idx['<pad>'] = 0\n",
        "    for index, word in enumerate(self.vocab):\n",
        "      self.word2idx[word] = index + 1\n",
        "    \n",
        "    for word, index in self.word2idx.items():\n",
        "      self.idx2word[index] = word\n",
        "\n",
        "def max_length(tensor):\n",
        "    return max(len(t) for t in tensor)"
      ],
      "execution_count": null,
      "outputs": []
    },
    {
      "cell_type": "code",
      "metadata": {
        "id": "o36h0fLFj73L"
      },
      "source": [
        "def load_dataset(pairs):  \n",
        "    inp_lang = LanguageIndex(ml for ml, te in pairs)\n",
        "    targ_lang = LanguageIndex(te for ml, te in pairs)\n",
        "    input_tensor = [[inp_lang.word2idx[s] for s in ml.split(' ')] for ml, te in pairs]\n",
        "    target_tensor = [[targ_lang.word2idx[s] for s in te.split(' ')] for ml, te in pairs]\n",
        "    max_length_inp, max_length_tar = max_length(input_tensor), max_length(target_tensor)\n",
        "    return inp_lang, targ_lang, max_length_inp, max_length_tar\n",
        "\n",
        "inp_lang, targ_lang, max_length_inp, max_length_targ = load_dataset(dataset)"
      ],
      "execution_count": null,
      "outputs": []
    },
    {
      "cell_type": "code",
      "metadata": {
        "id": "x27lwXkFzkMu",
        "colab": {
          "base_uri": "https://localhost:8080/"
        },
        "outputId": "4b41907f-9ece-455d-a755-7cec3cc2b626"
      },
      "source": [
        "# Try experimenting with the size of that dataset\n",
        "def train_tensor(pairs, max_length_inp, max_length_tar, inp_lang, targ_lang):\n",
        "    input_tensor_x = [[inp_lang.word2idx[s] for s in ml.split(' ')] for ml, te in pairs]\n",
        "    print(input_tensor_x[0])\n",
        "    target_tensor_y = [[targ_lang.word2idx[s] for s in te.split(' ')] for ml, te in pairs]\n",
        "    input_tensor_x = tf.keras.preprocessing.sequence.pad_sequences(input_tensor_x, maxlen=max_length_inp, padding='post')\n",
        "    target_tensor_y = tf.keras.preprocessing.sequence.pad_sequences(target_tensor_y, maxlen=max_length_tar, padding='post')\n",
        "    return input_tensor_x, target_tensor_y\n",
        "\n",
        "input_tensor_train, target_tensor_train = train_tensor(train, max_length_inp, max_length_targ, inp_lang, targ_lang)\n",
        "input_tensor_val, target_tensor_val = train_tensor(test, max_length_inp, max_length_targ, inp_lang, targ_lang)"
      ],
      "execution_count": null,
      "outputs": [
        {
          "output_type": "stream",
          "text": [
            "[6, 8257, 44308, 56211, 5]\n",
            "[6, 4750, 1512, 7284, 5]\n"
          ],
          "name": "stdout"
        }
      ]
    },
    {
      "cell_type": "code",
      "metadata": {
        "colab": {
          "base_uri": "https://localhost:8080/"
        },
        "id": "WBJNpRxV0QG1",
        "outputId": "a47a5365-8ecb-4113-a94e-02c74d5fe693"
      },
      "source": [
        "len(input_tensor_train[0]), len(target_tensor_train[0]), len(input_tensor_val), len(target_tensor_val)"
      ],
      "execution_count": null,
      "outputs": [
        {
          "output_type": "execute_result",
          "data": {
            "text/plain": [
              "(33, 27, 10000, 10000)"
            ]
          },
          "metadata": {
            "tags": []
          },
          "execution_count": 28
        }
      ]
    },
    {
      "cell_type": "code",
      "metadata": {
        "colab": {
          "base_uri": "https://localhost:8080/"
        },
        "id": "jO0OSpSzWmt_",
        "outputId": "990903bd-a018-421a-fa71-c891f8d32dc0"
      },
      "source": [
        "input_tensor_train[0]"
      ],
      "execution_count": null,
      "outputs": [
        {
          "output_type": "execute_result",
          "data": {
            "text/plain": [
              "array([    6,  8257, 44308, 56211,     5,     0,     0,     0,     0,\n",
              "           0,     0,     0,     0,     0,     0,     0,     0,     0,\n",
              "           0,     0,     0,     0,     0,     0,     0,     0,     0,\n",
              "           0,     0,     0,     0,     0,     0], dtype=int32)"
            ]
          },
          "metadata": {
            "tags": []
          },
          "execution_count": 31
        }
      ]
    },
    {
      "cell_type": "code",
      "metadata": {
        "colab": {
          "base_uri": "https://localhost:8080/"
        },
        "id": "sl52BFcd0jTJ",
        "outputId": "98f10551-e8c7-4b81-ed77-f8e0257428f1"
      },
      "source": [
        "tf.config.experimental_connect_to_host('grpc://' + os.environ['COLAB_TPU_ADDR'])\n",
        "resolver = tf.distribute.cluster_resolver.TPUClusterResolver('grpc://' + os.environ['COLAB_TPU_ADDR'])\n",
        "tf.tpu.experimental.initialize_tpu_system(resolver)\n",
        "strategy = tf.distribute.experimental.TPUStrategy(resolver)"
      ],
      "execution_count": null,
      "outputs": [
        {
          "output_type": "stream",
          "text": [
            "INFO:tensorflow:Initializing the TPU system: grpc://10.72.92.114:8470\n",
            "INFO:tensorflow:Clearing out eager caches\n",
            "INFO:tensorflow:Finished initializing TPU system.\n"
          ],
          "name": "stdout"
        },
        {
          "output_type": "stream",
          "text": [
            "WARNING:absl:`tf.distribute.experimental.TPUStrategy` is deprecated, please use  the non experimental symbol `tf.distribute.TPUStrategy` instead.\n"
          ],
          "name": "stderr"
        },
        {
          "output_type": "stream",
          "text": [
            "INFO:tensorflow:Found TPU system:\n"
          ],
          "name": "stdout"
        },
        {
          "output_type": "stream",
          "text": [
            "INFO:tensorflow:Found TPU system:\n"
          ],
          "name": "stderr"
        },
        {
          "output_type": "stream",
          "text": [
            "INFO:tensorflow:*** Num TPU Cores: 8\n"
          ],
          "name": "stdout"
        },
        {
          "output_type": "stream",
          "text": [
            "INFO:tensorflow:*** Num TPU Cores: 8\n"
          ],
          "name": "stderr"
        },
        {
          "output_type": "stream",
          "text": [
            "INFO:tensorflow:*** Num TPU Workers: 1\n"
          ],
          "name": "stdout"
        },
        {
          "output_type": "stream",
          "text": [
            "INFO:tensorflow:*** Num TPU Workers: 1\n"
          ],
          "name": "stderr"
        },
        {
          "output_type": "stream",
          "text": [
            "INFO:tensorflow:*** Num TPU Cores Per Worker: 8\n"
          ],
          "name": "stdout"
        },
        {
          "output_type": "stream",
          "text": [
            "INFO:tensorflow:*** Num TPU Cores Per Worker: 8\n"
          ],
          "name": "stderr"
        },
        {
          "output_type": "stream",
          "text": [
            "INFO:tensorflow:*** Available Device: _DeviceAttributes(/job:localhost/replica:0/task:0/device:CPU:0, CPU, 0, 0)\n"
          ],
          "name": "stdout"
        },
        {
          "output_type": "stream",
          "text": [
            "INFO:tensorflow:*** Available Device: _DeviceAttributes(/job:localhost/replica:0/task:0/device:CPU:0, CPU, 0, 0)\n"
          ],
          "name": "stderr"
        },
        {
          "output_type": "stream",
          "text": [
            "INFO:tensorflow:*** Available Device: _DeviceAttributes(/job:worker/replica:0/task:0/device:CPU:0, CPU, 0, 0)\n"
          ],
          "name": "stdout"
        },
        {
          "output_type": "stream",
          "text": [
            "INFO:tensorflow:*** Available Device: _DeviceAttributes(/job:worker/replica:0/task:0/device:CPU:0, CPU, 0, 0)\n"
          ],
          "name": "stderr"
        },
        {
          "output_type": "stream",
          "text": [
            "INFO:tensorflow:*** Available Device: _DeviceAttributes(/job:worker/replica:0/task:0/device:TPU:0, TPU, 0, 0)\n"
          ],
          "name": "stdout"
        },
        {
          "output_type": "stream",
          "text": [
            "INFO:tensorflow:*** Available Device: _DeviceAttributes(/job:worker/replica:0/task:0/device:TPU:0, TPU, 0, 0)\n"
          ],
          "name": "stderr"
        },
        {
          "output_type": "stream",
          "text": [
            "INFO:tensorflow:*** Available Device: _DeviceAttributes(/job:worker/replica:0/task:0/device:TPU:1, TPU, 0, 0)\n"
          ],
          "name": "stdout"
        },
        {
          "output_type": "stream",
          "text": [
            "INFO:tensorflow:*** Available Device: _DeviceAttributes(/job:worker/replica:0/task:0/device:TPU:1, TPU, 0, 0)\n"
          ],
          "name": "stderr"
        },
        {
          "output_type": "stream",
          "text": [
            "INFO:tensorflow:*** Available Device: _DeviceAttributes(/job:worker/replica:0/task:0/device:TPU:2, TPU, 0, 0)\n"
          ],
          "name": "stdout"
        },
        {
          "output_type": "stream",
          "text": [
            "INFO:tensorflow:*** Available Device: _DeviceAttributes(/job:worker/replica:0/task:0/device:TPU:2, TPU, 0, 0)\n"
          ],
          "name": "stderr"
        },
        {
          "output_type": "stream",
          "text": [
            "INFO:tensorflow:*** Available Device: _DeviceAttributes(/job:worker/replica:0/task:0/device:TPU:3, TPU, 0, 0)\n"
          ],
          "name": "stdout"
        },
        {
          "output_type": "stream",
          "text": [
            "INFO:tensorflow:*** Available Device: _DeviceAttributes(/job:worker/replica:0/task:0/device:TPU:3, TPU, 0, 0)\n"
          ],
          "name": "stderr"
        },
        {
          "output_type": "stream",
          "text": [
            "INFO:tensorflow:*** Available Device: _DeviceAttributes(/job:worker/replica:0/task:0/device:TPU:4, TPU, 0, 0)\n"
          ],
          "name": "stdout"
        },
        {
          "output_type": "stream",
          "text": [
            "INFO:tensorflow:*** Available Device: _DeviceAttributes(/job:worker/replica:0/task:0/device:TPU:4, TPU, 0, 0)\n"
          ],
          "name": "stderr"
        },
        {
          "output_type": "stream",
          "text": [
            "INFO:tensorflow:*** Available Device: _DeviceAttributes(/job:worker/replica:0/task:0/device:TPU:5, TPU, 0, 0)\n"
          ],
          "name": "stdout"
        },
        {
          "output_type": "stream",
          "text": [
            "INFO:tensorflow:*** Available Device: _DeviceAttributes(/job:worker/replica:0/task:0/device:TPU:5, TPU, 0, 0)\n"
          ],
          "name": "stderr"
        },
        {
          "output_type": "stream",
          "text": [
            "INFO:tensorflow:*** Available Device: _DeviceAttributes(/job:worker/replica:0/task:0/device:TPU:6, TPU, 0, 0)\n"
          ],
          "name": "stdout"
        },
        {
          "output_type": "stream",
          "text": [
            "INFO:tensorflow:*** Available Device: _DeviceAttributes(/job:worker/replica:0/task:0/device:TPU:6, TPU, 0, 0)\n"
          ],
          "name": "stderr"
        },
        {
          "output_type": "stream",
          "text": [
            "INFO:tensorflow:*** Available Device: _DeviceAttributes(/job:worker/replica:0/task:0/device:TPU:7, TPU, 0, 0)\n"
          ],
          "name": "stdout"
        },
        {
          "output_type": "stream",
          "text": [
            "INFO:tensorflow:*** Available Device: _DeviceAttributes(/job:worker/replica:0/task:0/device:TPU:7, TPU, 0, 0)\n"
          ],
          "name": "stderr"
        },
        {
          "output_type": "stream",
          "text": [
            "INFO:tensorflow:*** Available Device: _DeviceAttributes(/job:worker/replica:0/task:0/device:TPU_SYSTEM:0, TPU_SYSTEM, 0, 0)\n"
          ],
          "name": "stdout"
        },
        {
          "output_type": "stream",
          "text": [
            "INFO:tensorflow:*** Available Device: _DeviceAttributes(/job:worker/replica:0/task:0/device:TPU_SYSTEM:0, TPU_SYSTEM, 0, 0)\n"
          ],
          "name": "stderr"
        },
        {
          "output_type": "stream",
          "text": [
            "INFO:tensorflow:*** Available Device: _DeviceAttributes(/job:worker/replica:0/task:0/device:XLA_CPU:0, XLA_CPU, 0, 0)\n"
          ],
          "name": "stdout"
        },
        {
          "output_type": "stream",
          "text": [
            "INFO:tensorflow:*** Available Device: _DeviceAttributes(/job:worker/replica:0/task:0/device:XLA_CPU:0, XLA_CPU, 0, 0)\n"
          ],
          "name": "stderr"
        }
      ]
    },
    {
      "cell_type": "code",
      "metadata": {
        "id": "rq2zjCLm0VT_"
      },
      "source": [
        "BUFFER_SIZE = len(input_tensor_train)\n",
        "BATCH_SIZE = 64\n",
        "N_BATCH = BUFFER_SIZE//BATCH_SIZE\n",
        "embedding_dim = 300\n",
        "units = 500\n",
        "vocab_inp_size = len(inp_lang.word2idx)\n",
        "vocab_tar_size = len(targ_lang.word2idx)\n",
        "\n",
        "dataset = tf.data.Dataset.from_tensor_slices((input_tensor_train, target_tensor_train)).shuffle(BUFFER_SIZE)\n",
        "dataset = dataset.batch(BATCH_SIZE)"
      ],
      "execution_count": null,
      "outputs": []
    },
    {
      "cell_type": "code",
      "metadata": {
        "colab": {
          "base_uri": "https://localhost:8080/"
        },
        "id": "yi2mtCpGoL2u",
        "outputId": "074bb83f-d1f1-406b-ea41-e5ed54307fab"
      },
      "source": [
        "len(inp_lang.word2idx)"
      ],
      "execution_count": null,
      "outputs": [
        {
          "output_type": "execute_result",
          "data": {
            "text/plain": [
              "69547"
            ]
          },
          "metadata": {
            "tags": []
          },
          "execution_count": 54
        }
      ]
    },
    {
      "cell_type": "code",
      "metadata": {
        "id": "nLD7lIi83Wfe"
      },
      "source": [
        "def gru(units):\n",
        "    if tf.test.is_gpu_available():\n",
        "        #print(\"Using GPU\")\n",
        "        return tf.compat.v1.keras.layers.CuDNNGRU(units, return_sequences=True, return_state=True, recurrent_initializer='glorot_uniform')\n",
        "    else:\n",
        "        #print(\"Using TPU\")\n",
        "        return tf.keras.layers.GRU(units, return_sequences=True, return_state=True, recurrent_activation='sigmoid', recurrent_initializer='glorot_uniform')"
      ],
      "execution_count": null,
      "outputs": []
    },
    {
      "cell_type": "code",
      "metadata": {
        "id": "VeFP9oi13h8D"
      },
      "source": [
        "class Encoder(tf.keras.Model):\n",
        "    def __init__(self, vocab_size, embedding_dim, enc_units, batch_sz):\n",
        "        super(Encoder, self).__init__()\n",
        "        self.batch_sz = batch_sz\n",
        "        self.enc_units = enc_units\n",
        "        self.embedding = tf.keras.layers.Embedding( vocab_size, embedding_dim)\n",
        "        self.gru = gru(self.enc_units)\n",
        "        \n",
        "    def call(self, x, hidden):\n",
        "        x = self.embedding(x)\n",
        "        output, state = self.gru(x, initial_state = hidden)\n",
        "        return output, state\n",
        "    \n",
        "    def initialize_hidden_state(self):\n",
        "        return tf.zeros((self.batch_sz, self.enc_units))"
      ],
      "execution_count": null,
      "outputs": []
    },
    {
      "cell_type": "code",
      "metadata": {
        "id": "IoFMBJn73mlC"
      },
      "source": [
        "class Decoder(tf.keras.Model):\n",
        "    def __init__(self, vocab_size, embedding_dim, dec_units, batch_sz):\n",
        "        super(Decoder, self).__init__()\n",
        "        self.batch_sz = batch_sz\n",
        "        self.dec_units = dec_units\n",
        "        self.embedding = tf.keras.layers.Embedding(vocab_size, embedding_dim)\n",
        "        self.gru = gru(self.dec_units)\n",
        "        self.FullyConnected = tf.keras.layers.Dense(vocab_size)\n",
        "        self.W1 = tf.keras.layers.Dense(self.dec_units)\n",
        "        self.W2 = tf.keras.layers.Dense(self.dec_units)\n",
        "        self.V = tf.keras.layers.Dense(1)\n",
        "        \n",
        "    def call(self, x, hidden, enc_output):\n",
        "        hidden_with_time_axis = tf.expand_dims(hidden, 1)\n",
        "        score = self.V(tf.nn.tanh(self.W1(enc_output) + self.W2(hidden_with_time_axis)))\n",
        "        attention_weights = tf.nn.softmax(score, axis=1)\n",
        "        context_vector = attention_weights * enc_output\n",
        "        context_vector = tf.reduce_sum(context_vector, axis=1)\n",
        "        x = self.embedding(x)\n",
        "        x = tf.concat([tf.expand_dims(context_vector, 1), x], axis=-1)\n",
        "        output, state = self.gru(x)\n",
        "        output = tf.reshape(output, (-1, output.shape[2]))\n",
        "        x = self.FullyConnected(output)\n",
        "        return x, state, attention_weights\n",
        "    \n",
        "    def initialize_hidden_state(self):\n",
        "        return tf.zeros((self.batch_sz, self.dec_units))"
      ],
      "execution_count": null,
      "outputs": []
    },
    {
      "cell_type": "code",
      "metadata": {
        "colab": {
          "base_uri": "https://localhost:8080/"
        },
        "id": "T4RNwLm23qVC",
        "outputId": "8d28f7f4-b30a-4b28-84d2-1331909ebd75"
      },
      "source": [
        "encoder = Encoder(vocab_inp_size, embedding_dim, units, BATCH_SIZE)\n",
        "decoder = Decoder(vocab_tar_size, embedding_dim, units, BATCH_SIZE)"
      ],
      "execution_count": null,
      "outputs": [
        {
          "output_type": "stream",
          "text": [
            "WARNING:tensorflow:From <ipython-input-49-2cf59a4b2acd>:2: is_gpu_available (from tensorflow.python.framework.test_util) is deprecated and will be removed in a future version.\n",
            "Instructions for updating:\n",
            "Use `tf.config.list_physical_devices('GPU')` instead.\n",
            "here\n",
            "here\n"
          ],
          "name": "stdout"
        }
      ]
    },
    {
      "cell_type": "code",
      "metadata": {
        "id": "CXje5UeX3vBw"
      },
      "source": [
        "optimizer = tf.optimizers.Adam()\n",
        "\n",
        "def loss_function(real, pred):\n",
        "  mask = 1 - np.equal(real, 0)\n",
        "  loss_ = tf.nn.sparse_softmax_cross_entropy_with_logits(labels=real, logits=pred) * mask\n",
        "  return tf.reduce_mean(loss_)"
      ],
      "execution_count": null,
      "outputs": []
    },
    {
      "cell_type": "code",
      "metadata": {
        "id": "ornBCGEo33SO"
      },
      "source": [
        "checkpoint_dir = '/content/drive/MyDrive/NLP/Project/Model/training_checkpoints'\n",
        "checkpoint_prefix = os.path.join(checkpoint_dir, \"ckpt\")\n",
        "checkpoint = tf.train.Checkpoint(optimizer=optimizer, encoder=encoder,decoder=decoder)"
      ],
      "execution_count": null,
      "outputs": []
    },
    {
      "cell_type": "code",
      "metadata": {
        "colab": {
          "base_uri": "https://localhost:8080/"
        },
        "id": "YybKra-M4NvA",
        "outputId": "713289fb-3c70-4269-9e5c-e9030236bf68"
      },
      "source": [
        "EPOCHS = 4\n",
        "\n",
        "for epoch in range(EPOCHS):\n",
        "    start = time.time()\n",
        "    \n",
        "    hidden = encoder.initialize_hidden_state()\n",
        "    total_loss = 0\n",
        "    \n",
        "    for (batch, (inp, targ)) in enumerate(dataset):\n",
        "        #print (batch)\n",
        "        #print (inp, targ)\n",
        "        loss = 0\n",
        "        \n",
        "        with tf.GradientTape() as tape:\n",
        "            enc_output, enc_hidden = encoder(inp, hidden)\n",
        "            \n",
        "            dec_hidden = enc_hidden\n",
        "            \n",
        "            dec_input = tf.expand_dims([targ_lang.word2idx['<start>']] * BATCH_SIZE, 1)       \n",
        "            \n",
        "                     # Teacher forcing\n",
        "            for t in range(1, targ.shape[1]):\n",
        "                predictions, dec_hidden, _ = decoder(dec_input, dec_hidden, enc_output)\n",
        "                loss += loss_function(targ[:, t], predictions)\n",
        "                dec_input = tf.expand_dims(targ[:, t], 1)\n",
        "        \n",
        "        batch_loss = (loss / int(targ.shape[1]))\n",
        "        \n",
        "        total_loss += batch_loss\n",
        "        \n",
        "        variables = encoder.variables + decoder.variables\n",
        "        \n",
        "        gradients = tape.gradient(loss, variables)\n",
        "        \n",
        "        optimizer.apply_gradients(zip(gradients, variables))\n",
        "        \n",
        "        if batch % 100 == 0:\n",
        "            print('Epoch {} Batch {} Loss {:.4f}'.format(epoch + 1,batch,batch_loss.numpy()))\n",
        "    # saving (checkpoint) the model every 2 epochs\n",
        "    if (epoch + 1) % 2 == 0:\n",
        "      checkpoint.save(file_prefix = checkpoint_prefix)\n",
        "    \n",
        "    print('Epoch {} Loss {:.4f}'.format(epoch + 1,total_loss / N_BATCH))\n",
        "    print('Time taken for 1 epoch {} sec\\n'.format(time.time() - start))"
      ],
      "execution_count": null,
      "outputs": [
        {
          "output_type": "stream",
          "text": [
            "Epoch 1 Batch 0 Loss 2.0739\n",
            "Epoch 1 Batch 100 Loss 2.1453\n",
            "Epoch 1 Batch 200 Loss 2.1653\n",
            "Epoch 1 Batch 300 Loss 1.8031\n",
            "Epoch 1 Batch 400 Loss 2.0041\n",
            "Epoch 1 Batch 500 Loss 1.9363\n",
            "Epoch 1 Batch 600 Loss 1.5938\n",
            "Epoch 1 Loss 1.8733\n",
            "Time taken for 1 epoch 2038.2663867473602 sec\n",
            "\n",
            "Epoch 2 Batch 0 Loss 1.8130\n",
            "Epoch 2 Batch 100 Loss 1.5078\n",
            "Epoch 2 Batch 200 Loss 1.8111\n",
            "Epoch 2 Batch 300 Loss 1.6350\n",
            "Epoch 2 Batch 400 Loss 1.4662\n",
            "Epoch 2 Batch 500 Loss 1.6257\n",
            "Epoch 2 Batch 600 Loss 1.6864\n",
            "Epoch 2 Loss 1.6822\n",
            "Time taken for 1 epoch 2049.64165186882 sec\n",
            "\n",
            "Epoch 3 Batch 0 Loss 1.4658\n",
            "Epoch 3 Batch 100 Loss 1.1732\n",
            "Epoch 3 Batch 200 Loss 1.4507\n",
            "Epoch 3 Batch 300 Loss 1.3237\n",
            "Epoch 3 Batch 400 Loss 1.4070\n",
            "Epoch 3 Batch 500 Loss 1.4441\n",
            "Epoch 3 Batch 600 Loss 1.4176\n",
            "Epoch 3 Loss 1.4619\n",
            "Time taken for 1 epoch 2042.216349363327 sec\n",
            "\n",
            "Epoch 4 Batch 0 Loss 1.1850\n",
            "Epoch 4 Batch 100 Loss 1.1888\n",
            "Epoch 4 Batch 200 Loss 1.1671\n",
            "Epoch 4 Batch 300 Loss 1.2325\n",
            "Epoch 4 Batch 400 Loss 1.3159\n",
            "Epoch 4 Batch 500 Loss 1.2282\n",
            "Epoch 4 Batch 600 Loss 1.2320\n",
            "Epoch 4 Loss 1.2162\n",
            "Time taken for 1 epoch 2036.779406785965 sec\n",
            "\n"
          ],
          "name": "stdout"
        }
      ]
    },
    {
      "cell_type": "markdown",
      "metadata": {
        "id": "bF695oSEiGdU"
      },
      "source": [
        "# Evaluation"
      ]
    },
    {
      "cell_type": "code",
      "metadata": {
        "id": "z_J1z2utPhKb"
      },
      "source": [
        "def evaluate(sentence, encoder, decoder, inp_lang, targ_lang, max_length_inp, max_length_targ):\n",
        "    attention_plot = np.zeros((max_length_targ, max_length_inp))\n",
        "    \n",
        "    #sentence = preprocess_sentence(sentence)\n",
        "\n",
        "    inputs = [inp_lang.word2idx[i] for i in sentence.split(' ')]\n",
        "    inputs = tf.keras.preprocessing.sequence.pad_sequences([inputs], maxlen=max_length_inp, padding='post')\n",
        "    inputs = tf.convert_to_tensor(inputs)\n",
        "    \n",
        "    result = ''\n",
        "\n",
        "    hidden = [tf.zeros((1, units))]\n",
        "    enc_out, enc_hidden = encoder(inputs, hidden)\n",
        "\n",
        "    dec_hidden = enc_hidden\n",
        "    dec_input = tf.expand_dims([targ_lang.word2idx['<start>']], 0)\n",
        "\n",
        "    for t in range(max_length_targ):\n",
        "        predictions, dec_hidden, attention_weights = decoder(dec_input, dec_hidden, enc_out)\n",
        "        \n",
        "        # storing the attention weights to plot later on\n",
        "        attention_weights = tf.reshape(attention_weights, (-1, ))\n",
        "        attention_plot[t] = attention_weights.numpy()\n",
        "\n",
        "        predicted_id = tf.argmax(predictions[0]).numpy()\n",
        "\n",
        "        result += targ_lang.idx2word[predicted_id] + ' '\n",
        "\n",
        "        if targ_lang.idx2word[predicted_id] == '<end>':\n",
        "            return result, sentence, attention_plot\n",
        "        \n",
        "        # the predicted ID is fed back into the model\n",
        "        dec_input = tf.expand_dims([predicted_id], 0)\n",
        "\n",
        "    return result, sentence, attention_plot"
      ],
      "execution_count": null,
      "outputs": []
    },
    {
      "cell_type": "code",
      "metadata": {
        "id": "o1tMTVd4iNUa"
      },
      "source": [
        "# function for plotting the attention weights\n",
        "def plot_attention(attention, sentence, predicted_sentence):\n",
        "    fig = plt.figure(figsize=(10,10))\n",
        "    ax = fig.add_subplot(1, 1, 1)\n",
        "    ax.matshow(attention, cmap='viridis')\n",
        "    \n",
        "    fontdict = {'fontsize': 14}\n",
        "    \n",
        "    ax.set_xticklabels([''] + sentence, fontdict=fontdict, rotation=90)\n",
        "    ax.set_yticklabels([''] + predicted_sentence, fontdict=fontdict)\n",
        "\n",
        "    plt.show()"
      ],
      "execution_count": null,
      "outputs": []
    },
    {
      "cell_type": "code",
      "metadata": {
        "id": "qX86ov1DiPJk"
      },
      "source": [
        "def translate(sentence, tel_sen , encoder, decoder, inp_lang, targ_lang, max_length_inp, max_length_targ, sample,counter):\n",
        "    result, sentence, attention_plot = evaluate(sentence, encoder, decoder, inp_lang, targ_lang, max_length_inp, max_length_targ)\n",
        "    if (counter%100 ==0):\n",
        "      print('Input: {}'.format(sentence), file = sample)\n",
        "      print('Actual_translation: {}'.format(tel_sen), file = sample)\n",
        "      print('Predicted translation: {}'.format(result), file = sample)\n",
        "      print (\"\", file=sample)\n",
        "    \n",
        "    #attention_plot = attention_plot[:len(result.split(' ')), :len(sentence.split(' '))]\n",
        "    #plot_attention(attention_plot, sentence.split(' '), result.split(' '))\n",
        "    return result"
      ],
      "execution_count": null,
      "outputs": []
    },
    {
      "cell_type": "code",
      "metadata": {
        "colab": {
          "base_uri": "https://localhost:8080/"
        },
        "id": "5vcu3wZliS9l",
        "outputId": "eb8d953d-4dc1-45ad-c3d1-e4b7173c620e"
      },
      "source": [
        "# restoring the latest checkpoint in checkpoint_dir\n",
        "checkpoint_dir = '/content/drive/MyDrive/NLP/Project/Model/training_checkpoints'\n",
        "checkpoint.restore(tf.train.latest_checkpoint(checkpoint_dir))"
      ],
      "execution_count": null,
      "outputs": [
        {
          "output_type": "execute_result",
          "data": {
            "text/plain": [
              "<tensorflow.python.training.tracking.util.CheckpointLoadStatus at 0x7effa63f9990>"
            ]
          },
          "metadata": {
            "tags": []
          },
          "execution_count": 59
        }
      ]
    },
    {
      "cell_type": "code",
      "metadata": {
        "colab": {
          "base_uri": "https://localhost:8080/"
        },
        "id": "JKmKLSTriWRp",
        "outputId": "b60978f2-7d9d-4205-af35-d4fe303b6859"
      },
      "source": [
        "actual, predicted = list(), list()\n",
        "\n",
        "sample = open('/content/drive/MyDrive/NLP/Project/Evaluation Results/training_result.txt', 'w')\n",
        "\n",
        "for ml, te in train:\n",
        "    predicted_sen = translate(ml, te, encoder, decoder, inp_lang, targ_lang, max_length_inp, max_length_targ, sample)\n",
        "    telugu_list = te.split()\n",
        "    predicted_sen = predicted_sen.split()\n",
        "    if (telugu_list[-1] == \"<end>\"):\n",
        "        telugu_list = telugu_list[:-1]\n",
        "    if (telugu_list[0] == \"<start>\"):\n",
        "        telugu_list.pop(0)\n",
        "    if (predicted_sen[-1] == \"<end>\"):\n",
        "        predicted_sen = predicted_sen[:-1]\n",
        "    actual.append(telugu_list)\n",
        "    predicted.append(predicted_sen)\n",
        "\n",
        "print('BLEU-1: %f' % corpus_bleu(actual, predicted, weights=(1.0, 0, 0, 0)))\n",
        "print('BLEU-2: %f' % corpus_bleu(actual, predicted, weights=(0.5, 0.5, 0, 0)))\n",
        "print('BLEU-3: %f' % corpus_bleu(actual, predicted, weights=(0.33, 0.33, 0.33, 0)))\n",
        "print('BLEU-4: %f' % corpus_bleu(actual, predicted, weights=(0.25, 0.25, 0.25, 0.25)))\n",
        "\n",
        "# n-gram individual BLEU\n",
        "print('Individual 1-gram: %f' % corpus_bleu(actual, predicted, weights=(1, 0, 0, 0)))\n",
        "print('Individual 2-gram: %f' % corpus_bleu(actual, predicted, weights=(0, 1, 0, 0)))\n",
        "print('Individual 3-gram: %f' % corpus_bleu(actual, predicted, weights=(0, 0, 1, 0)))\n",
        "print('Individual 4-gram: %f' % corpus_bleu(actual, predicted, weights=(0, 0, 0, 1)))\n",
        "\n",
        "sample.close()"
      ],
      "execution_count": null,
      "outputs": [
        {
          "output_type": "stream",
          "text": [
            "/usr/local/lib/python3.7/dist-packages/nltk/translate/bleu_score.py:490: UserWarning: \n",
            "Corpus/Sentence contains 0 counts of 2-gram overlaps.\n",
            "BLEU scores might be undesirable; use SmoothingFunction().\n",
            "  warnings.warn(_msg)\n"
          ],
          "name": "stderr"
        },
        {
          "output_type": "stream",
          "text": [
            "BLEU-1: 0.018905\n",
            "BLEU-2: 0.137495\n",
            "BLEU-3: 0.269942\n",
            "BLEU-4: 0.370804\n",
            "Individual 1-gram: 0.018905\n",
            "Individual 2-gram: 1.000000\n",
            "Individual 3-gram: 1.000000\n",
            "Individual 4-gram: 1.000000\n"
          ],
          "name": "stdout"
        }
      ]
    },
    {
      "cell_type": "code",
      "metadata": {
        "colab": {
          "base_uri": "https://localhost:8080/"
        },
        "id": "qGSYP8XQibbK",
        "outputId": "d96f6357-5af6-42c7-c361-6e4c6d2db1ff"
      },
      "source": [
        "actual, predicted = list(), list()\n",
        "\n",
        "sample = open('/content/drive/MyDrive/NLP/Project/Evaluation Results/testing_result.txt', 'w') \n",
        "counter = 1\n",
        "for ml, te in test:\n",
        "    predicted_sen = translate(ml, te, encoder, decoder, inp_lang, targ_lang, max_length_inp, max_length_targ, sample,counter)\n",
        "    telugu_list = te.split()\n",
        "    predicted_sen = predicted_sen.split()\n",
        "    if (telugu_list[-1] == \"<end>\"):\n",
        "        telugu_list = telugu_list[:-1]\n",
        "    if (telugu_list[0] == \"<start>\"):\n",
        "        telugu_list.pop(0)\n",
        "    if (predicted_sen[-1] == \"<end>\"):\n",
        "        predicted_sen = predicted_sen[:-1]\n",
        "    actual.append(telugu_list)\n",
        "    predicted.append(predicted_sen)\n",
        "    if (counter%100 == 0):\n",
        "      print(\"{0} % completed!\".format(round((counter/(len(test))*100),2)))\n",
        "    counter += 1\n",
        "\n",
        "print('BLEU-1: %f' % corpus_bleu(actual, predicted, weights=(1.0, 0, 0, 0)))\n",
        "print('BLEU-2: %f' % corpus_bleu(actual, predicted, weights=(0.5, 0.5, 0, 0)))\n",
        "print('BLEU-3: %f' % corpus_bleu(actual, predicted, weights=(0.33, 0.33, 0.33, 0)))\n",
        "print('BLEU-4: %f' % corpus_bleu(actual, predicted, weights=(0.25, 0.25, 0.25, 0.25)))\n",
        "\n",
        "# n-gram individual BLEU\n",
        "print('Individual 1-gram: %f' % corpus_bleu(actual, predicted, weights=(1, 0, 0, 0)))\n",
        "print('Individual 2-gram: %f' % corpus_bleu(actual, predicted, weights=(0, 1, 0, 0)))\n",
        "print('Individual 3-gram: %f' % corpus_bleu(actual, predicted, weights=(0, 0, 1, 0)))\n",
        "print('Individual 4-gram: %f' % corpus_bleu(actual, predicted, weights=(0, 0, 0, 1)))\n",
        "\n",
        "sample.close()"
      ],
      "execution_count": null,
      "outputs": [
        {
          "output_type": "stream",
          "text": [
            "1.0 % completed!\n",
            "2.0 % completed!\n",
            "3.0 % completed!\n",
            "4.0 % completed!\n",
            "5.0 % completed!\n",
            "6.0 % completed!\n",
            "7.0 % completed!\n",
            "8.0 % completed!\n",
            "9.0 % completed!\n",
            "10.0 % completed!\n",
            "11.0 % completed!\n",
            "12.0 % completed!\n",
            "13.0 % completed!\n",
            "14.0 % completed!\n",
            "15.0 % completed!\n",
            "16.0 % completed!\n",
            "17.0 % completed!\n",
            "18.0 % completed!\n",
            "19.0 % completed!\n",
            "20.0 % completed!\n",
            "21.0 % completed!\n",
            "22.0 % completed!\n",
            "23.0 % completed!\n",
            "24.0 % completed!\n",
            "25.0 % completed!\n",
            "26.0 % completed!\n",
            "27.0 % completed!\n",
            "28.0 % completed!\n",
            "29.0 % completed!\n",
            "30.0 % completed!\n",
            "31.0 % completed!\n",
            "32.0 % completed!\n",
            "33.0 % completed!\n",
            "34.0 % completed!\n",
            "35.0 % completed!\n",
            "36.0 % completed!\n",
            "37.0 % completed!\n",
            "38.0 % completed!\n",
            "39.0 % completed!\n",
            "40.0 % completed!\n",
            "41.0 % completed!\n",
            "42.0 % completed!\n",
            "43.0 % completed!\n",
            "44.0 % completed!\n",
            "45.0 % completed!\n",
            "46.0 % completed!\n",
            "47.0 % completed!\n",
            "48.0 % completed!\n",
            "49.0 % completed!\n",
            "50.0 % completed!\n",
            "51.0 % completed!\n",
            "52.0 % completed!\n",
            "53.0 % completed!\n",
            "54.0 % completed!\n",
            "55.0 % completed!\n",
            "56.0 % completed!\n",
            "57.0 % completed!\n",
            "58.0 % completed!\n",
            "59.0 % completed!\n",
            "60.0 % completed!\n",
            "61.0 % completed!\n",
            "62.0 % completed!\n",
            "63.0 % completed!\n",
            "64.0 % completed!\n",
            "65.0 % completed!\n",
            "66.0 % completed!\n",
            "67.0 % completed!\n",
            "68.0 % completed!\n",
            "69.0 % completed!\n",
            "70.0 % completed!\n",
            "71.0 % completed!\n",
            "72.0 % completed!\n",
            "73.0 % completed!\n",
            "74.0 % completed!\n",
            "75.0 % completed!\n",
            "76.0 % completed!\n",
            "77.0 % completed!\n",
            "78.0 % completed!\n",
            "79.0 % completed!\n",
            "80.0 % completed!\n",
            "81.0 % completed!\n",
            "82.0 % completed!\n",
            "83.0 % completed!\n",
            "84.0 % completed!\n",
            "85.0 % completed!\n",
            "86.0 % completed!\n",
            "87.0 % completed!\n",
            "88.0 % completed!\n",
            "89.0 % completed!\n",
            "90.0 % completed!\n",
            "91.0 % completed!\n",
            "92.0 % completed!\n",
            "93.0 % completed!\n",
            "94.0 % completed!\n",
            "95.0 % completed!\n",
            "96.0 % completed!\n",
            "97.0 % completed!\n",
            "98.0 % completed!\n",
            "99.0 % completed!\n",
            "100.0 % completed!\n"
          ],
          "name": "stdout"
        },
        {
          "output_type": "stream",
          "text": [
            "/usr/local/lib/python3.7/dist-packages/nltk/translate/bleu_score.py:490: UserWarning: \n",
            "Corpus/Sentence contains 0 counts of 2-gram overlaps.\n",
            "BLEU scores might be undesirable; use SmoothingFunction().\n",
            "  warnings.warn(_msg)\n"
          ],
          "name": "stderr"
        },
        {
          "output_type": "stream",
          "text": [
            "BLEU-1: 0.016567\n",
            "BLEU-2: 0.128712\n",
            "BLEU-3: 0.258433\n",
            "BLEU-4: 0.358764\n",
            "Individual 1-gram: 0.016567\n",
            "Individual 2-gram: 1.000000\n",
            "Individual 3-gram: 1.000000\n",
            "Individual 4-gram: 1.000000\n"
          ],
          "name": "stdout"
        }
      ]
    },
    {
      "cell_type": "markdown",
      "metadata": {
        "id": "zaUpgSE83_RD"
      },
      "source": [
        "# Testing the model with some examples"
      ]
    },
    {
      "cell_type": "code",
      "metadata": {
        "id": "5xKYolZlPnqS"
      },
      "source": [
        "def tst_translate(sentence, tel_sen , encoder, decoder, inp_lang, targ_lang, max_length_inp, max_length_targ,sample):\n",
        "    result, sentence, attention_plot = evaluate(sentence, encoder, decoder, inp_lang, targ_lang, max_length_inp, max_length_targ)\n",
        "    print('Input: {}'.format(sentence), file = sample)\n",
        "    print('Actual_translation: {}'.format(tel_sen), file = sample)\n",
        "    print('Predicted translation: {}'.format(result), file = sample)\n",
        "    print (\"\", file=sample)\n",
        "    print('Input: {}'.format(sentence))\n",
        "    print('Actual_translation: {}'.format(tel_sen))\n",
        "    print('Predicted translation: {}'.format(result))\n",
        "    print(\"\")\n",
        "    \n",
        "    #attention_plot = attention_plot[:len(result.split(' ')), :len(sentence.split(' '))]\n",
        "    #plot_attention(attention_plot, sentence.split(' '), result.split(' '))\n",
        "    return result"
      ],
      "execution_count": null,
      "outputs": []
    },
    {
      "cell_type": "code",
      "metadata": {
        "colab": {
          "base_uri": "https://localhost:8080/"
        },
        "id": "Cs9iN1P_4Cd9",
        "outputId": "2706c70b-e442-413c-a6f5-c419f90008df"
      },
      "source": [
        "tst_list = [['<start> റാസ പറഞ്ഞു <end>','<start> అని రోజా అన్నారు <end>'],\n",
        "            ['<start> ഞാൻ ഫ്ലൈറ്റിൽ കയറി <end>','<start> నేను పెరట్లోకి వెళ్ళాను <end>'],\n",
        "            ['<start> നന്ദ സ്വയം പറഞ്ഞു <end>','<start> ఈ విషయన్ని స్వయంగా ఆమె తెలిపింది <end>'],\n",
        "            ['<start> അതിനുള്ള യാത്രയാണിത്','<start> ఇది ఓ ప్రయాణం <end>'],\n",
        "            ['<start> കൂട്ടിലുണ്ടായിരുന്ന മറ്റൊരാടിന് ഗുരുതരമായി കടിയേറ്റിട്ടുണ്ട് <end>','<start> మరో అరుగురు తీవ్రంగా గాయపడ్డారు <end>'],\n",
        "            ['<start> ഷെയ്ൻ തന്റെ ഇൻസ്റ്റ ഗ്രാം പേജിലൂടെയാണ് ചിത്രം പങ്കുവച്ചിരിക്കുന്നത് <end>','<start> ఈ ఫోటోను బీసీసీఐ తన ఇన్స్టాగ్రామ్లో షేర్ చేసింది <end>'],\n",
        "            ['<start> ഭാവന ഉൾപ്പെടെ വിദ്യാർഥികൾക്ക് ൽ മാർക്ക് ലഭിച്ചു <end>','<start> మార్కులకుగానూ మంది విద్యార్థులకు మార్కులు వచ్చాయి <end>'],\n",
        "            ['<start> എനിക്ക് കാശ് കിട്ടുന്നു <end>','<start> నాది కొంచెం డబ్బుంది <end>'],\n",
        "            ['<start> ഇത്തരം അടിസ്ഥാന സവിശേഷതകൾ ഉണ്ട് <end>','<start> తయారీ యొక్క ప్రధాన లక్షణాలు ఉన్నాయి <end>'],\n",
        "            ['<start> ഞാൻ നടക്കുക ആണ് <end>','<start> నేను నడుస్తున్నాను <end>'],\n",
        "            ['<start> ചിത്രത്തിന് സെൻസർ ബോർഡ് യു സർട്ടിഫിക്കറ്റ് നൽകി <end>','<start> సినిమాను చూసిన సెన్సార్ వారు చిత్రానికి యు/ఏ సర్టిఫికెట్ జారీ చేసారు <end>'],\n",
        "            ['<start> എന്നാൽ ഈ സിനിമാ ആണ് <end>','<start> కానీ ఈ సినిమా <end>']]\n",
        "#['<start> മനുഷ്യരെല്ലാവരും തുല്യാവകാശങ്ങളോടും സ്വാതന്ത്ര്യത്തോടുംകൂടി ജനിച്ചിട്ടുള്ളവരാണ് <end>','<start> ప్రజలందరూ  సమాన హక్కు మరియు స్వతంత్రంతో పుట్టారు <end>'],\n",
        "\n",
        "tst_list = np.array(tst_list)\n",
        "tst_actual, tst_predicted = list(), list()\n",
        "\n",
        "sample_prediction = open('/content/drive/MyDrive/NLP/Project/Evaluation Results/sample_prediction_result.txt', 'w') \n",
        "counter = 1\n",
        "for ml, te in tst_list:\n",
        "    tst_predicted_sen = tst_translate(ml, te, encoder, decoder, inp_lang, targ_lang, max_length_inp, max_length_targ,sample_prediction)\n",
        "    tst_telugu_list = te.split()\n",
        "    tst_predicted_sen = tst_predicted_sen.split()\n",
        "    if (tst_telugu_list[-1] == \"<end>\"):\n",
        "        tst_telugu_list = tst_telugu_list[:-1]\n",
        "    if (tst_telugu_list[0] == \"<start>\"):\n",
        "        tst_telugu_list.pop(0)\n",
        "    if (tst_predicted_sen[-1] == \"<end>\"):\n",
        "        tst_predicted_sen = tst_predicted_sen[:-1]\n",
        "    tst_actual.append(tst_telugu_list)\n",
        "    tst_predicted.append(tst_predicted_sen)"
      ],
      "execution_count": null,
      "outputs": [
        {
          "output_type": "stream",
          "text": [
            "Input: <start> റാസ പറഞ്ഞു <end>\n",
            "Actual_translation: <start> అని రోజా అన్నారు <end>\n",
            "Predicted translation: కోదండ నవ్వుతూ <end> \n",
            "\n",
            "Input: <start> ഞാൻ ഫ്ലൈറ്റിൽ കയറി <end>\n",
            "Actual_translation: <start> నేను పెరట్లోకి వెళ్ళాను <end>\n",
            "Predicted translation: నేను నేను పెరట్లోకి వెళ్ళాను <end> \n",
            "\n",
            "Input: <start> നന്ദ സ്വയം പറഞ്ഞു <end>\n",
            "Actual_translation: <start> ఈ విషయన్ని స్వయంగా ఆమె తెలిపింది <end>\n",
            "Predicted translation: ఈ విషయాన్ని అతను చెప్పాడు <end> \n",
            "\n",
            "Input: <start> അതിനുള്ള യാത്രയാണിത്\n",
            "Actual_translation: <start> ఇది ఓ ప్రయాణం <end>\n",
            "Predicted translation: ఇది ఒక గొప్ప <end> \n",
            "\n",
            "Input: <start> കൂട്ടിലുണ്ടായിരുന്ന മറ്റൊരാടിന് ഗുരുതരമായി കടിയേറ്റിട്ടുണ്ട് <end>\n",
            "Actual_translation: <start> మరో అరుగురు తీవ్రంగా గాయపడ్డారు <end>\n",
            "Predicted translation: మరో మంది తీవ్రంగా గాయపడ్డారు <end> \n",
            "\n",
            "Input: <start> ഷെയ്ൻ തന്റെ ഇൻസ്റ്റ ഗ്രാം പേജിലൂടെയാണ് ചിത്രം പങ്കുവച്ചിരിക്കുന്നത് <end>\n",
            "Actual_translation: <start> ఈ ఫోటోను బీసీసీఐ తన ఇన్స్టాగ్రామ్లో షేర్ చేసింది <end>\n",
            "Predicted translation: ఈ విషయాన్ని తన ఇన్స్టాగ్రామ్లో షేర్ చేసింది <end> \n",
            "\n",
            "Input: <start> ഭാവന ഉൾപ്പെടെ വിദ്യാർഥികൾക്ക് ൽ മാർക്ക് ലഭിച്ചു <end>\n",
            "Actual_translation: <start> మార్కులకుగానూ మంది విద్యార్థులకు మార్కులు వచ్చాయి <end>\n",
            "Predicted translation: వేలాది మంది విద్యార్థులు మృతి <end> \n",
            "\n",
            "Input: <start> എനിക്ക് കാശ് കിട്ടുന്നു <end>\n",
            "Actual_translation: <start> నాది కొంచెం డబ్బుంది <end>\n",
            "Predicted translation: నాకు గదిలోనే ప్రేమిస్తాను <end> \n",
            "\n",
            "Input: <start> ഇത്തരം അടിസ്ഥാന സവിശേഷതകൾ ഉണ്ട് <end>\n",
            "Actual_translation: <start> తయారీ యొక్క ప్రధాన లక్షణాలు ఉన్నాయి <end>\n",
            "Predicted translation: ఇది ఒక చిన్న ప్రయోజనాలు <end> \n",
            "\n",
            "Input: <start> ഞാൻ നടക്കുക ആണ് <end>\n",
            "Actual_translation: <start> నేను నడుస్తున్నాను <end>\n",
            "Predicted translation: నేను ద్వేషిస్తున్నాను <end> \n",
            "\n",
            "Input: <start> ചിത്രത്തിന് സെൻസർ ബോർഡ് യു സർട്ടിഫിക്കറ്റ് നൽകി <end>\n",
            "Actual_translation: <start> సినిమాను చూసిన సెన్సార్ వారు చిత్రానికి యు/ఏ సర్టిఫికెట్ జారీ చేసారు <end>\n",
            "Predicted translation: ఈ చిత్రం లో తమిళ చిత్ర పరిశ్రమకు మధ్య సర్టిఫికెట్ జారీ చేసింది <end> \n",
            "\n",
            "Input: <start> എന്നാൽ ഈ സിനിമാ ആണ് <end>\n",
            "Actual_translation: <start> కానీ ఈ సినిమా <end>\n",
            "Predicted translation: కానీ ఈ సినిమా <end> \n",
            "\n"
          ],
          "name": "stdout"
        }
      ]
    },
    {
      "cell_type": "code",
      "metadata": {
        "colab": {
          "base_uri": "https://localhost:8080/"
        },
        "id": "9XJ1PGs2P7Gl",
        "outputId": "2929744b-ecf4-49ec-81b4-44c990c0fe2f"
      },
      "source": [
        "tst_mal_list = list(df_malayalam[100000:100010])\n",
        "tst_mal_list"
      ],
      "execution_count": null,
      "outputs": [
        {
          "output_type": "execute_result",
          "data": {
            "text/plain": [
              "['മാർക്കറ്റ് ഷെയറും ഇതനുസരിച്ച് ഇടിഞ്ഞു.',\n",
              " 'ഗൗതം മേനോനാണ് ചിത്രത്തിന്റെ സംവിധായകന്\\u200d.',\n",
              " '’ റാസ പറഞ്ഞു.',\n",
              " 'ചിത്രത്തിന് സെൻസർ ബോർഡ് യു സർട്ടിഫിക്കറ്റ് നൽകി.',\n",
              " 'ഉൽപ്പന്ന തരംതിരിവ്',\n",
              " 'അവന്\\u200d പെട്ടെന്ന് പുറത്തേയ്ക്കിറങ്ങിപ്പോയി.',\n",
              " 'ഇതിനായി ഇവര്\\u200d പ്രത്യേകപരിശീലനത്തിന് വിധേയരാകണം.',\n",
              " 'എന്നാൽ ഇത് മത്സരിക്കേണ്ടതും ആവശ്യമാണ്.',\n",
              " 'ചൈനീസ് പ്രസിഡന്റ് ഷീ ജിംഗ് പിംഗും പാക് പ്രധാനമന്ത്രി ഇമ്രാന്\\u200d ഖാനും നടത്തിയ കൂടിക്കാഴ്ചയ്ക്ക് ശേഷമാണ് വാഗ്ദാനം ഉണ്ടായത്.',\n",
              " 'ആത്മവിശ്വാസവും വേണം.']"
            ]
          },
          "metadata": {
            "tags": []
          },
          "execution_count": 48
        }
      ]
    },
    {
      "cell_type": "code",
      "metadata": {
        "colab": {
          "base_uri": "https://localhost:8080/"
        },
        "id": "7LAkOnPPMEFx",
        "outputId": "8dfc9e8e-2500-46ee-fade-a2bedf9a2d16"
      },
      "source": [
        "tst_tel_list = list(df_telugu[100000:100010])\n",
        "tst_tel_list"
      ],
      "execution_count": null,
      "outputs": [
        {
          "output_type": "execute_result",
          "data": {
            "text/plain": [
              "['ఫలితంగానే స్టాక్ మార్కెట్లు నష్టాలను చవిచూస్తున్నాయి.',\n",
              " 'ఈ సినిమా దర్శకుడు గౌతం మీనన్ కావడం… ప్రధాన ఆకర్షణ.',\n",
              " 'అని రోజా అన్నారు.',\n",
              " 'సినిమాను చూసిన సెన్సార్ వారు చిత్రానికి యు/ఏ సర్టిఫికెట్ జారీ చేసారు.',\n",
              " 'ఉత్పత్తి వర్గీకరణ',\n",
              " 'వెంట\\u200cనే అవుట్ అయ్యాడు.',\n",
              " 'ఈ దూరానికి ప్రత్యేక శిక్షణ అవసరం.',\n",
              " 'కానీ పోటీల్లో అది తప్పనిసరి.',\n",
              " 'పాకిస్థాన్ ప్రధాని ఇమ్రాన్\\u200c ఖాన్\\u200c, చైనా అధ్యక్షుడు జిన్\\u200cపింగ్ సమావేశమైన మరుసటి రోజునే బీజింగ్\\u200c నుంచి ఈ ప్రకటన రావడం విశేషం.',\n",
              " 'ఆత్మవిశ్వాసంతో మెలగాల్సి ఉంటుంది.']"
            ]
          },
          "metadata": {
            "tags": []
          },
          "execution_count": 38
        }
      ]
    }
  ]
}